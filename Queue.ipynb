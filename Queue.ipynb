{
 "cells": [
  {
   "cell_type": "markdown",
   "metadata": {
    "collapsed": true
   },
   "source": [
    "# Queue\n",
    "\n",
    "## Overview:\n",
    "A queue, in general, refers to an ordered collection of items. When new items are added, it occurs at one end called \"rear\". When existing items are removed, on the other hand, it is at the other end called the \"front.\" Items are added to the \"rear\" as it makes itself toward the \"front\" as the item in front of it is removed. The newest item that is added to queue has to wait until it reaches the \"front\" of the queue. This is also known as \"first come, first served\" or FIFO (first-in, first-out). For example, a real-life scenario is a printer queue in which a printer releases print jobs in a queue fashion. In other words, as one print job is finished, it is essentially is removed so the print job behind it will be released. "
   ]
  },
  {
   "cell_type": "markdown",
   "metadata": {},
   "source": [
    "### Real-Life Examples:"
   ]
  },
  {
   "cell_type": "markdown",
   "metadata": {},
   "source": [
    "Line at the movies"
   ]
  },
  {
   "cell_type": "markdown",
   "metadata": {},
   "source": [
    "Check-out line at the grocery store"
   ]
  },
  {
   "cell_type": "markdown",
   "metadata": {},
   "source": [
    "Cafeteria line"
   ]
  },
  {
   "cell_type": "markdown",
   "metadata": {},
   "source": [
    "#### Queue Data Type Components:"
   ]
  },
  {
   "cell_type": "markdown",
   "metadata": {},
   "source": [
    "Queue(): This operation refers to creating an empty queue. It does not need any parameters and returns an empty queue."
   ]
  },
  {
   "cell_type": "markdown",
   "metadata": {},
   "source": [
    "enqueue(item): This operation refers to adding a new item to the \"rear\" of the queue. It requires an item and returns nothing."
   ]
  },
  {
   "cell_type": "markdown",
   "metadata": {},
   "source": [
    "dequeue(): This operation removes the item in the \"front\". It does not need any parameters and returns the item. The queue is essentially changed. "
   ]
  },
  {
   "cell_type": "markdown",
   "metadata": {},
   "source": [
    "is_empty(): This operation tests to see if a queue is empty or not. It does not need any parameters and returns a boolean value."
   ]
  },
  {
   "cell_type": "markdown",
   "metadata": {},
   "source": [
    "size(): This operation returns the number of items in the queue. It does not need any parameters and returns an integer value."
   ]
  },
  {
   "cell_type": "markdown",
   "metadata": {},
   "source": [
    "###### Example:"
   ]
  },
  {
   "cell_type": "code",
   "execution_count": null,
   "metadata": {
    "collapsed": true
   },
   "outputs": [],
   "source": [
    "class Queue:\n",
    "    def __init__(self):\n",
    "        self.items = []\n",
    "    \n",
    "    def is_empty(self):\n",
    "        return self.items == []\n",
    "\n",
    "    def enqueue(self, item):\n",
    "        self.items.insert(0,item)\n",
    "\n",
    "    def dequeue(self):\n",
    "        return self.items.pop()\n",
    "\n",
    "    def size(self):\n",
    "        return len(self.items)"
   ]
  },
  {
   "cell_type": "markdown",
   "metadata": {},
   "source": [
    "This is a successful implementation of a Queue utlizing a class Queue and functions that operate in the interactive shell in Python or terminal. As stated previously, a printer queue is essentially how this data algorithm works. As an item is added or removed, a item goes to \"rear\" of the queue or removed from the \"front\" of the queue. This data type might be utilized when you want to talk to a customer service representative online. There is a waiting period to talk until a representative is available. Once a person is finished, the person is \"removed\" and you are in \"front\" of the queue as the next person to talk. "
   ]
  },
  {
   "cell_type": "markdown",
   "metadata": {},
   "source": [
    "### Interactive Examples:"
   ]
  },
  {
   "cell_type": "code",
   "execution_count": null,
   "metadata": {
    "collapsed": true
   },
   "outputs": [],
   "source": [
    "q = Queue()\n",
    "q.enqueue('hey')\n",
    "q.enqueue('cat')\n",
    "q.enqueue(7)\n",
    "q.dequeue()\n",
    ">>> 'hey'"
   ]
  },
  {
   "cell_type": "markdown",
   "metadata": {},
   "source": [
    "In the interactive shell, inserting q = Queue() stores this in the current session. Once you add 'hey', 'cat', and 7 using the enqueue function, the return value is [7, 'cat', 'hey']. Since the first item added is the first item removed, then the return will be [7, 'cat']"
   ]
  },
  {
   "cell_type": "code",
   "execution_count": null,
   "metadata": {
    "collapsed": true
   },
   "outputs": [],
   "source": [
    "q = Queue()\n",
    "q.is_empty() \n",
    ">>> True\n",
    "q.enqueue(8)\n",
    "q.enqueue('cat')\n",
    "q.enqueue(True)\n",
    "q.size()\n",
    ">>> 3\n",
    "q.is_empty()\n",
    ">>> False\n",
    "q.enqueue(7.5)\n",
    "q.dequeue()\n",
    ">>> 8\n",
    "q.dequeue()\n",
    ">>> 'cat'\n",
    "q.size()\n",
    ">>> 2"
   ]
  },
  {
   "cell_type": "markdown",
   "metadata": {},
   "source": [
    "In this example, it is in depth scenario on how several items are added, removed, and tested as well as returning the number of items in a queue. The first queue is [True, 'cat', 8] and the number of items shown is 3. The queue is not empty as it was intially. As a result, it returns a False value. The new queue aftering 7.5 is [7.5, True, 'cat', 8]. After removing the first item that was inserted, the dequeue function returns the integer 8. After dequeue is utilized again, the 'cat' string is the return value. Lastly, the size of the queue is the return value of 2 because two items removed previously. "
   ]
  }
 ],
 "metadata": {
  "kernelspec": {
   "display_name": "Python 3",
   "language": "python",
   "name": "python3"
  },
  "language_info": {
   "codemirror_mode": {
    "name": "ipython",
    "version": 3
   },
   "file_extension": ".py",
   "mimetype": "text/x-python",
   "name": "python",
   "nbconvert_exporter": "python",
   "pygments_lexer": "ipython3",
   "version": "3.6.0"
  }
 },
 "nbformat": 4,
 "nbformat_minor": 2
}
